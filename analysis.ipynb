{
 "cells": [
  {
   "cell_type": "markdown",
   "metadata": {},
   "source": [
    "# My first notebook"
   ]
  },
  {
   "cell_type": "code",
   "execution_count": null,
   "metadata": {},
   "outputs": [],
   "source": [
    "# Perform Exploratory Data Analysis (EDA) to uncover interesting patterns, insights, and potential anomalies within the Weather dataset that we used for week 1 Assignment.\n",
    "\n",
    "import pandas as pd\n",
    "import numpy as np\n",
    "import matplotlib.pyplot as plt\n",
    "%matplotlib inline\n",
    "import seaborn as sns\n",
    "from scipy import stats\n",
    "from scipy.stats import personal\n",
    "\n",
    "# Load the dataset\n",
    "df = pd.read_csv('path/to/your/WeatherData.csv')\n",
    "\n",
    "# Perform exploratory data analysis\n",
    "\n",
    "# Example: Count the number of missing values in each column\n",
    "print(df.isna().sum())\n",
    "\n",
    "# Example: Count the number of unique values in each column\n",
    "print(df.nunique())\n",
    "\n",
    "# Example: Calculate descriptive statistics\n",
    "print(df.describe())\n",
    "\n",
    "# Example: Perform any other exploratory data analysis techniques\n"
   ]
  },
  {
   "cell_type": "code",
   "execution_count": null,
   "metadata": {},
   "outputs": [
    {
     "ename": "",
     "evalue": "",
     "output_type": "error",
     "traceback": [
      "\u001b[1;31mRunning cells with 'Python 3.12.3' requires the ipykernel package.\n",
      "\u001b[1;31mRun the following command to install 'ipykernel' into the Python environment. \n",
      "\u001b[1;31mCommand: '/bin/python3 -m pip install ipykernel -U --user --force-reinstall'"
     ]
    }
   ],
   "source": [
    "# Data Overview and Cleaning:\n",
    "# What are the key characteristics of the dataset? (e.g., number of records, features, data types)\n",
    "# Identify and handle any missing or null values. Describe your approach and reasoning.\n",
    "# Check for and address any duplicate records.\n",
    "\n",
    "import pandas as pd\n",
    "\n",
    "# Load the dataset\n",
    "df = pd.read_csv('path/to/your/WeatherData.csv')\n",
    "\n",
    "# Perform data cleaning\n",
    "\n",
    "# Remove duplicate records\n",
    "df.drop_duplicates(inplace=True)      \n",
    "# df.drop_duplicates(subset=['column1', 'column2'], keep='first', inplace=True)\n",
    "\n",
    "# Convert data types\n",
    "df['column1'] = df['column1'].astype(float)\n",
    "df['column2'] = df['column2'].astype(int)\n",
    "\n",
    "#  Handle missing values\n",
    "df.dropna(inplace=True)\n",
    "\n",
    "#  Fill missing values\n",
    "df.fillna(method='ffill', inplace=True) # Fill missing values using forward fill\n",
    "\n",
    "#  Perform any other data cleaning techniques\n",
    "\n",
    "# Save the cleaned dataset\n",
    "df.to_csv('cleaned_weather_data.csv', index=False)\n",
    "\n",
    "# View the cleaned dataset\n",
    "print(df)\n",
    "\n"
   ]
  },
  {
   "cell_type": "code",
   "execution_count": null,
   "metadata": {},
   "outputs": [],
   "source": [
    "# Statistical Summary:\n",
    "# Provide a statistical summary of the dataset (mean, median, standard deviation, etc.) for numerical features.\n",
    "# Identify and describe any significant outliers in the data.\n",
    "\n",
    "# Check for missing values\n",
    "missing_values = df.isnull().sum()\n",
    "print(\"Missing values per column:\")\n",
    "print(missing_values)\n",
    "\n",
    "# Check for outliers\n",
    "outliers = df[(df['column1'] < 0) | (df['column1'] > 100) | (df['column2'] < 0) | (df['column2'] > 100)]\n",
    "print(\"Outliers:\")\n",
    "print(outliers)\n",
    "\n"
   ]
  },
  {
   "cell_type": "code",
   "execution_count": null,
   "metadata": {},
   "outputs": [],
   "source": [
    "# Data Visualization:\n",
    "# Create visualizations to show the distribution of key weather parameters (e.g., temperature, humidity, wind speed).\n",
    "# Plot time series graphs to visualize trends over time. Highlight any notable patterns or seasonal variations.\n",
    "# Create correlation matrices and heatmaps to identify relationships between different weather parameters.\n",
    "\n",
    "# Visualize temperature distribution\n",
    "\n",
    "\n",
    "df['column1'].hist()\n",
    "plt.xlabel('Temperature')\n",
    "plt.ylabel('Count')\n",
    "plt.title('Distribution of Temperature')\n",
    "plt.show()\n",
    "\n",
    "# Visualize humidity distribution\n",
    "df['column2'].hist()\n",
    "plt.xlabel('Humidity')\n",
    "plt.ylabel('Count')\n",
    "plt.title('Distribution of Humidity')\n",
    "plt.show()\n",
    "\n",
    "# Visualize wind speed distribution\n",
    "df['column3'].hist()\n",
    "plt.xlabel('Wind Speed')\n",
    "plt.ylabel('Count')\n",
    "plt.title('Distribution of Wind Speed')\n",
    "plt.show()\n",
    "\n",
    "# Visualize correlation matrices and heatmaps\n",
    "corr = df.corr()\n",
    "sns.heatmap(corr, annot=True)\n",
    "plt.show()\n",
    "\n"
   ]
  },
  {
   "cell_type": "code",
   "execution_count": null,
   "metadata": {},
   "outputs": [],
   "source": [
    "# Weather Patterns and Trends:\n",
    "# Analyze and describe any trends or patterns you observe in the data. For instance, how do temperature and humidity vary across different seasons or months?\n",
    "# Investigate any anomalies or unusual patterns in the data. What might be the reasons for these anomalies?\n",
    "\n",
    "# Extract month from the date\n",
    "\n",
    "df['Month'] = df['Date/Time'].dt.month\n",
    "# Group by month and calculate average temperature\n",
    "\n",
    "monthly_avg_temp = df.groupby('Month')['Temp_C'].mean()\n",
    "# Plot the monthly average temperature\n",
    "\n",
    "plt.figure(figsize=(10, 6))\n",
    "sns.lineplot(x=monthly_avg_temp.index, y=monthly_avg_temp.values)\n",
    "plt.title('Average Monthly Temperature')\n",
    "plt.xlabel('Month')\n",
    "plt.ylabel('Temperature (°C)')\n",
    "plt.show()\n",
    "# Identify temperature anomalies\n",
    "\n",
    "temperature_threshold = df['Temp_C'].mean() + 3 * df['Temp_C'].std()\n",
    "anomalies = df[df['Temp_C'] > temperature_threshold]\n",
    "print(\"Temperature anomalies:\")\n",
    "print(anomalies)"
   ]
  }
 ],
 "metadata": {
  "kernelspec": {
   "display_name": "Python 3",
   "language": "python",
   "name": "python3"
  },
  "language_info": {
   "name": "python",
   "version": "3.12.3"
  }
 },
 "nbformat": 4,
 "nbformat_minor": 2
}
